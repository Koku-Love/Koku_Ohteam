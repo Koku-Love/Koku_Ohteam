{
 "cells": [
  {
   "cell_type": "code",
   "execution_count": 2,
   "id": "c135248e-4545-46c4-8de7-965a87cbcef3",
   "metadata": {},
   "outputs": [],
   "source": [
    "import numpy as np\n",
    "from PIL import Image\n",
    "import os, cv2"
   ]
  },
  {
   "cell_type": "code",
   "execution_count": 4,
   "id": "26772f82-1884-4c2e-88cd-2f15c5fc835d",
   "metadata": {},
   "outputs": [],
   "source": [
    "def train_Classifier(data_dir):\n",
    "    path = [os.path.join(data_dir, f) for f in os.listdir(data_dir)]\n",
    "    faces = []\n",
    "    ids = []\n",
    "    for image in path:\n",
    "        im = Image.open(image).convert('L')\n",
    "        imageNp = np.array(im, 'uint8')\n",
    "        id = int(os.path.split(image)[1].split('.')[1])\n",
    "        faces.append(imageNp)\n",
    "        ids.append(id)\n",
    "    ids = np.array(ids)\n",
    "    clf = cv2.face.LBPHFaceRecognizer_create()\n",
    "    clf.train(faces, ids)\n",
    "    clf.write('Classify.xml')"
   ]
  },
  {
   "cell_type": "code",
   "execution_count": 5,
   "id": "996276c7-4f9a-4b83-9459-9edf00c804df",
   "metadata": {},
   "outputs": [],
   "source": [
    "train_Classifier('data')"
   ]
  },
  {
   "cell_type": "code",
   "execution_count": null,
   "id": "7c3570a0-8bab-4fa7-87ef-2a88a436b95b",
   "metadata": {},
   "outputs": [],
   "source": []
  }
 ],
 "metadata": {
  "kernelspec": {
   "display_name": "Python 3",
   "language": "python",
   "name": "python3"
  },
  "language_info": {
   "codemirror_mode": {
    "name": "ipython",
    "version": 3
   },
   "file_extension": ".py",
   "mimetype": "text/x-python",
   "name": "python",
   "nbconvert_exporter": "python",
   "pygments_lexer": "ipython3",
   "version": "3.8.8"
  }
 },
 "nbformat": 4,
 "nbformat_minor": 5
}
