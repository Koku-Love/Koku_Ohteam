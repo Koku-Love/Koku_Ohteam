{
 "cells": [
  {
   "cell_type": "code",
   "execution_count": 1,
   "id": "fad658b4-8018-449a-be75-0f75118126c6",
   "metadata": {},
   "outputs": [],
   "source": [
    "import cv2"
   ]
  },
  {
   "cell_type": "code",
   "execution_count": 2,
   "id": "6f40a04d-3ff6-422a-b1cf-2265ba6165ce",
   "metadata": {},
   "outputs": [],
   "source": [
    "faceCascade = cv2.CascadeClassifier('haarcascade_frontalface_default.xml')"
   ]
  },
  {
   "cell_type": "code",
   "execution_count": 3,
   "id": "a78da640-6f5f-47fc-91d5-b7192b3c9fc6",
   "metadata": {},
   "outputs": [],
   "source": [
    "def Object(image, classifier, scaleFactor, minNeighbors, color, clf): \n",
    "    gray = cv2.cvtColor(image,cv2.COLOR_BGR2GRAY)\n",
    "    features = classifier.detectMultiScale(gray, scaleFactor, minNeighbors)\n",
    "    coords = []\n",
    "    for (x, y, w, h) in features:\n",
    "        cv2.rectangle(image, (x,y), (x+w,y+h), color, 2)\n",
    "        \n",
    "        id, con = clf.predict(gray[y:y+h, x:x+w])\n",
    "        if con <= 100:        \n",
    "            cv2.putText(image, 'Handsome Man' , (x,y-4), cv2.FONT_HERSHEY_SIMPLEX, 1, color, 2)\n",
    "        else :\n",
    "            cv2.putText(image, 'Normal' , (x,y-4), cv2.FONT_HERSHEY_SIMPLEX, 1, color, 2)\n",
    "        if (con < 100):\n",
    "            con = ' {0}%'.format(round(100 - con))\n",
    "        else :\n",
    "            _ = ' {0}%'.format(round(100 - con))\n",
    "#         print(str(con))\n",
    "        coords = [x, y, w, h]\n",
    "    return image, coords\n",
    "\n",
    "def detect(image, faceCascade, image_id, clf): \n",
    "    image, coords = Object(image, faceCascade, 1.1, 10, (255,255,255), clf) \n",
    "    return image"
   ]
  },
  {
   "cell_type": "code",
   "execution_count": 4,
   "id": "09fe89fe-c449-4320-a15b-d03837a88247",
   "metadata": {},
   "outputs": [],
   "source": [
    "image_id = 0\n",
    "cap = cv2.VideoCapture(0) #can put file's name to run.\n",
    "clf = cv2.face.LBPHFaceRecognizer_create()\n",
    "clf.read('Classify.xml')\n",
    "\n",
    "while (True):\n",
    "    ret, frame = cap.read()\n",
    "    frame = detect(frame, faceCascade, image_id, clf) \n",
    "    gray = cv2.cvtColor(frame,cv2.COLOR_BGR2GRAY) #convert to Gray.\n",
    "    cv2.imshow('frame', frame)\n",
    "    image_id = image_id + 1\n",
    "    if (cv2.waitKey(1) & 0xff == ord('e')):\n",
    "        break\n",
    "        \n",
    "cap.release()\n",
    "cv2.destroyAllWindows()"
   ]
  },
  {
   "cell_type": "code",
   "execution_count": null,
   "id": "b88b96c8-3842-4156-b28c-b4dcc9b2c4fa",
   "metadata": {},
   "outputs": [],
   "source": []
  }
 ],
 "metadata": {
  "kernelspec": {
   "display_name": "Python 3",
   "language": "python",
   "name": "python3"
  },
  "language_info": {
   "codemirror_mode": {
    "name": "ipython",
    "version": 3
   },
   "file_extension": ".py",
   "mimetype": "text/x-python",
   "name": "python",
   "nbconvert_exporter": "python",
   "pygments_lexer": "ipython3",
   "version": "3.8.8"
  }
 },
 "nbformat": 4,
 "nbformat_minor": 5
}
