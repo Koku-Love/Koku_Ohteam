{
 "cells": [
  {
   "cell_type": "code",
   "execution_count": 1,
   "id": "db23dc26-b429-4d80-826d-40a1f9bd4be7",
   "metadata": {},
   "outputs": [],
   "source": [
    "import cv2\n",
    "import cvlib as cv\n",
    "from cvlib.object_detection import draw_bbox"
   ]
  },
  {
   "cell_type": "code",
   "execution_count": 2,
   "id": "008851e4-1974-4914-afd0-ca2f9071864c",
   "metadata": {},
   "outputs": [],
   "source": [
    "cap = cv2.VideoCapture(0) #can put file's name to run.\n",
    "while (True):\n",
    "    ret, frame = cap.read()\n",
    "    bbox, label, conf = cv.detect_common_objects(frame)\n",
    "    output = draw_bbox(frame, bbox, label, conf)\n",
    "    gray = cv2.cvtColor(frame,cv2.COLOR_BGR2GRAY) #convert to Gray.\n",
    "    cv2.imshow('frame', frame)\n",
    "    if (cv2.waitKey(1) & 0xff == ord('e')):\n",
    "        break\n",
    "        \n",
    "cap.release()\n",
    "cv2.destroyAllWindows()"
   ]
  },
  {
   "cell_type": "code",
   "execution_count": null,
   "id": "e2bfcce2-0158-49c0-ad93-726d6603b757",
   "metadata": {},
   "outputs": [],
   "source": []
  }
 ],
 "metadata": {
  "kernelspec": {
   "display_name": "Python 3",
   "language": "python",
   "name": "python3"
  },
  "language_info": {
   "codemirror_mode": {
    "name": "ipython",
    "version": 3
   },
   "file_extension": ".py",
   "mimetype": "text/x-python",
   "name": "python",
   "nbconvert_exporter": "python",
   "pygments_lexer": "ipython3",
   "version": "3.8.8"
  }
 },
 "nbformat": 4,
 "nbformat_minor": 5
}
