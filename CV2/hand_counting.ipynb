{
 "cells": [
  {
   "cell_type": "code",
   "execution_count": 1,
   "id": "e63e4981-5e03-4a46-9eac-f24435ffa8fa",
   "metadata": {},
   "outputs": [],
   "source": [
    "import cv2\n",
    "from cvzone.HandTrackingModule import HandDetector as htm\n",
    "import numpy as np\n",
    "import time\n",
    "import autopy"
   ]
  },
  {
   "cell_type": "code",
   "execution_count": null,
   "id": "74ff8b43-d084-4b98-817e-ed9492412aca",
   "metadata": {},
   "outputs": [],
   "source": [
    "cap = cv2.VideoCapture(0)\n",
    "cap.set(3, 640) #weight \n",
    "cap.set(4, 480) #hight\n",
    "pTime = 0\n",
    "detector = htm(detectionCon=0.5, maxHands=2)\n",
    "count = 0\n",
    "ox = 0\n",
    "prx, pry = 0, 0\n",
    "\n",
    "while True:\n",
    "    # find hand landmarks\n",
    "    success, img = cap.read()\n",
    "    img = cv2.flip(img, 1)\n",
    "    img = cv2.line(img, (320, 0), (320, 480), (255, 0, 255), 3)\n",
    "    hands, img = detector.findHands(img)\n",
    "    \n",
    "    # count\n",
    "    if hands :\n",
    "        # Hand 1\n",
    "        hand1 = hands[0]\n",
    "        lmList = hand1[\"lmList\"]  # List of 21 Landmark points\n",
    "        cx, cy = hand1['center'] # hand's center\n",
    "        \n",
    "        # watch hand\n",
    "        if cx > 275 and cx < 365 :\n",
    "            ox = cx\n",
    "            \n",
    "        #count hand\n",
    "        if ox < 320 and cx > 320 :\n",
    "            count = count + 1\n",
    "            ox = 640\n",
    "        elif cx < 320 and ox > 320 :\n",
    "            count = count - 1\n",
    "            ox = 0\n",
    "#         print(count)\n",
    "        \n",
    "        # frame rate\n",
    "        cTime = time.time()\n",
    "        fps = 1/(cTime - pTime)\n",
    "        pTime = cTime\n",
    "        cv2.putText(img, str(int(fps)), (20,50), cv2.FONT_HERSHEY_PLAIN, 3, (255,0,0), 3)\n",
    "\n",
    "       #display\n",
    "        cv2.imshow(\"Image\", img)\n",
    "        if (cv2.waitKey(1) & 0xff == ord('e')):\n",
    "            break\n",
    "    else :\n",
    "        # frame rate\n",
    "        cTime = time.time()\n",
    "        fps = 1/(cTime - pTime)\n",
    "        pTime = cTime\n",
    "        cv2.putText(img, str(int(fps)), (20,50), cv2.FONT_HERSHEY_PLAIN, 3, (255,0,0), 3)\n",
    "\n",
    "       #display\n",
    "        cv2.imshow(\"Image\", img)\n",
    "        if (cv2.waitKey(1) & 0xff == ord('e')):\n",
    "            break\n",
    "            \n",
    "cap.release()\n",
    "cv2.destroyAllWindows()"
   ]
  },
  {
   "cell_type": "code",
   "execution_count": null,
   "id": "1b465079-f8f8-4c65-ab87-c2189dcdf636",
   "metadata": {},
   "outputs": [],
   "source": []
  }
 ],
 "metadata": {
  "kernelspec": {
   "display_name": "Python 3",
   "language": "python",
   "name": "python3"
  },
  "language_info": {
   "codemirror_mode": {
    "name": "ipython",
    "version": 3
   },
   "file_extension": ".py",
   "mimetype": "text/x-python",
   "name": "python",
   "nbconvert_exporter": "python",
   "pygments_lexer": "ipython3",
   "version": "3.8.8"
  }
 },
 "nbformat": 4,
 "nbformat_minor": 5
}
